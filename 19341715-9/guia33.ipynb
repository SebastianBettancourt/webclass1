{
 "cells": [
  {
   "cell_type": "markdown",
   "metadata": {},
   "source": [
    "<h4>Universidad del Desarrollo<br>\n",
    "Facultad de Ingeniería</h4>"
   ]
  },
  {
   "cell_type": "markdown",
   "metadata": {},
   "source": [
    "<h3 align=center>Guía de Ejercicios  N° 2<br>\n",
    "&nbsp;Tecnologías de la Información II 1/2019</h3>"
   ]
  },
  {
   "cell_type": "markdown",
   "metadata": {},
   "source": [
    "#### Ciclos for y while, listas y números aleatorios."
   ]
  },
  {
   "cell_type": "markdown",
   "metadata": {},
   "source": [
    "#### 1. Cree una lista con los 50 primeros primos a partir del 2 en adelante"
   ]
  },
  {
   "cell_type": "code",
   "execution_count": null,
   "metadata": {},
   "outputs": [],
   "source": []
  },
  {
   "cell_type": "markdown",
   "metadata": {},
   "source": [
    "#### 2. Se define como número palindromo, aquellos que \"al reves\" es el mismo numero, por ejemplo \"121\". Cree una lista con los numeros palindromos entre 10 y 999 inclusive. Utilice sólo ciclos, no puede usar función reversed o [::-1] y si desea puede transformar el numero a texto y/o crear listas con los digitos del número."
   ]
  },
  {
   "cell_type": "code",
   "execution_count": null,
   "metadata": {
    "collapsed": true
   },
   "outputs": [],
   "source": []
  },
  {
   "cell_type": "markdown",
   "metadata": {},
   "source": [
    "#### 3. Solicite su numero de rut sin digito verificador, y encuentre el primer primo inferior o igual al número ingresado.\n",
    "\n",
    "Por ejemplo si su rut es 100, el primer primo inferior o igual es 97."
   ]
  },
  {
   "cell_type": "code",
   "execution_count": null,
   "metadata": {
    "collapsed": true
   },
   "outputs": [],
   "source": []
  },
  {
   "cell_type": "markdown",
   "metadata": {},
   "source": [
    "#### 4. Imprima los naturales positivos menores que 1000, que posee una cantidad impar de divisores.¶"
   ]
  },
  {
   "cell_type": "code",
   "execution_count": null,
   "metadata": {
    "collapsed": true
   },
   "outputs": [],
   "source": []
  },
  {
   "cell_type": "markdown",
   "metadata": {},
   "source": [
    "#### 5. Utilizando solo ciclos y la lista letras, encuentre todos los grupos de sangre.\n",
    "\n",
    "Ayuda: Los grupos de sangre son [AA, AB, A0, BB, B0, 00]"
   ]
  },
  {
   "cell_type": "code",
   "execution_count": 5,
   "metadata": {
    "collapsed": true
   },
   "outputs": [],
   "source": [
    "letras = [\"A\", \"B\", \"0\"]"
   ]
  },
  {
   "cell_type": "code",
   "execution_count": null,
   "metadata": {
    "collapsed": true
   },
   "outputs": [],
   "source": []
  },
  {
   "cell_type": "markdown",
   "metadata": {},
   "source": [
    "#### 6. En clases se calculó $\\frac{\\pi}{4}$ utilizando el metodo de Montecarlo. Solicite un n que represente el número de intervalos y calcule lo mismo utilizando las sumas de Riemann.\n",
    "\n",
    "Ayuda: Riemann suma las areas de los trapecios formados en cada intervalo."
   ]
  },
  {
   "cell_type": "code",
   "execution_count": null,
   "metadata": {
    "collapsed": true
   },
   "outputs": [],
   "source": []
  },
  {
   "cell_type": "markdown",
   "metadata": {},
   "source": [
    "#### 7. Suponga que un texto cualquiera determina una cierta puntuación, solicite este y calcule su puntaje de acuerdo a las siguientes reglas, cada letra minuscula entrega un punto, las mayusculas 10 puntos, cada numero 100 puntos y cada simbolo (distinto a letras y numeros) 1000 puntos.\n",
    "\n",
    "Ayuda: Investigue las rutinas islower(), isupper(), isalpha(), isdigit(), isnumeric(), isalnum(). No necesariamente en su respuesta las debe usar todas."
   ]
  },
  {
   "cell_type": "raw",
   "metadata": {},
   "source": [
    "Por ejemplo el texto: \"Hola1 Chao23\" entrega 1326 puntos"
   ]
  },
  {
   "cell_type": "code",
   "execution_count": null,
   "metadata": {
    "collapsed": true
   },
   "outputs": [],
   "source": []
  },
  {
   "cell_type": "markdown",
   "metadata": {},
   "source": [
    "#### 8. Calcule empiricamente cual es la probabilidad que al tirar 3 dados, ellos sean crecientes (igual o mayor), su programa debe realizar 100.000 experimentos."
   ]
  },
  {
   "cell_type": "code",
   "execution_count": null,
   "metadata": {
    "collapsed": true
   },
   "outputs": [],
   "source": []
  },
  {
   "cell_type": "markdown",
   "metadata": {},
   "source": [
    "#### 9. Cree una lista, que contenga 5 bolitas blancas, 10 rojas y 15 azules, calcule la probabilidad empirica de que al sacar 5 bolitas de la lista sin restitución, todas ellas son azules. Detenga los experimentos cuando hayan transcurrido 1000 experimentos exitosos."
   ]
  },
  {
   "cell_type": "raw",
   "metadata": {},
   "source": [
    "Realice este ejercicio, una lanzando un numero aleatorio del largo de la lista y extrayendo esa bolita, utilizando la rutina pop(i) donde i es la posicion."
   ]
  },
  {
   "cell_type": "code",
   "execution_count": null,
   "metadata": {
    "collapsed": true
   },
   "outputs": [],
   "source": []
  },
  {
   "cell_type": "markdown",
   "metadata": {},
   "source": [
    "#### 10. Suponga que tiene un naipe español con 52 cartas (4 pintas y del A a la K, que son 13 cartas). Realice 100.000 experimentos y calcule la probabilidad que en 4 cartas haya exactamente una carta de cada pinta."
   ]
  },
  {
   "cell_type": "markdown",
   "metadata": {},
   "source": [
    "Realice este ejercicio creando una lista con las 52 cartas, luego aplique la rutina \"shuffle\" y luego revise las 4 primeras cartas de esta lista, con ellas determine si se cumple o no lo solicitado."
   ]
  },
  {
   "cell_type": "code",
   "execution_count": null,
   "metadata": {
    "collapsed": true
   },
   "outputs": [],
   "source": []
  },
  {
   "cell_type": "markdown",
   "metadata": {},
   "source": [
    "#### 11. Realice un programa que retira 5 cartas de un naipe ingles y se detiene al extraer 100 fulls (un trio y un par), y por ultimo calcule la probabilidad empirica de elegir esta mano (puede basarse en el ejercicio anterior)  "
   ]
  },
  {
   "cell_type": "code",
   "execution_count": null,
   "metadata": {
    "collapsed": true
   },
   "outputs": [],
   "source": []
  },
  {
   "cell_type": "markdown",
   "metadata": {},
   "source": [
    "#### 12. Suponga que el año tiene 365 dias, cree una lista con 50 elementos las probabilidades empiricas que haya dos o más personas de cumpleaños un mismo día en un grupo de n personas, realizando 10.000 experimentos y siendo la posición en la lista el numero de personas más uno."
   ]
  },
  {
   "cell_type": "markdown",
   "metadata": {},
   "source": [
    "Ayuda: En la posición 0 de la lista, esta la probabilidad que en un grupo de una persona haya dos personas de cumpleaños el mismo dia, por lo que debiese ser el resultado 0, pues es imposible que haya tope en los cumpleaños."
   ]
  },
  {
   "cell_type": "code",
   "execution_count": null,
   "metadata": {
    "collapsed": true
   },
   "outputs": [],
   "source": []
  },
  {
   "cell_type": "markdown",
   "metadata": {},
   "source": [
    "#### 13. Cuantifique cuantos experimentos necesita para sacar 1000 veces, 5 caras y 5 sellos, en un juego que lanza 10 monedas al azar (cara o sello). "
   ]
  },
  {
   "cell_type": "code",
   "execution_count": null,
   "metadata": {
    "collapsed": true
   },
   "outputs": [],
   "source": []
  },
  {
   "cell_type": "markdown",
   "metadata": {},
   "source": [
    "#### 14. Se tiene la siguiente serie de Taylor:\n",
    "\n",
    "$$ sin(x) = \\frac{x}{1!} - \\frac{x^3}{3!} + \\frac{x^5}{5!} - \\frac{x^7}{7!} + ... $$"
   ]
  },
  {
   "cell_type": "raw",
   "metadata": {},
   "source": [
    "Solicite x y calcule el sen(x), detenga la serie cuando el modulo del elemento a sumar o restar sea menor que 0.0001.\n",
    "\n",
    "Se prohibe calcular el termino usando alguna función que calcule el factorial o una potencia, fijese que el nuevo término es el anterior multiplicado por x^2 y dividido por los dos numeros que faltan del factorial. Comparelo con el resultado real."
   ]
  },
  {
   "cell_type": "code",
   "execution_count": null,
   "metadata": {
    "collapsed": true
   },
   "outputs": [],
   "source": []
  },
  {
   "cell_type": "markdown",
   "metadata": {},
   "source": [
    "#### 15. Escriba un programa que pida un número romano, con ese texto calcule a que número natural corresponde.\n",
    "\n",
    "Ayuda: Asuma que el número ingresado es correcto y como letra mayor utilice \"M\" que representa a 1000."
   ]
  },
  {
   "cell_type": "code",
   "execution_count": null,
   "metadata": {
    "collapsed": true
   },
   "outputs": [],
   "source": []
  }
 ],
 "metadata": {
  "kernelspec": {
   "display_name": "Python 3",
   "language": "python",
   "name": "python3"
  },
  "language_info": {
   "codemirror_mode": {
    "name": "ipython",
    "version": 3
   },
   "file_extension": ".py",
   "mimetype": "text/x-python",
   "name": "python",
   "nbconvert_exporter": "python",
   "pygments_lexer": "ipython3",
   "version": "3.7.1"
  }
 },
 "nbformat": 4,
 "nbformat_minor": 2
}
