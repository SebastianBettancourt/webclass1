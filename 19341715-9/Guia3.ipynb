{
 "cells": [
  {
   "cell_type": "markdown",
   "metadata": {},
   "source": [
    "<h4>Universidad del Desarrollo<br>\n",
    "Facultad de Ingeniería</h4>"
   ]
  },
  {
   "cell_type": "markdown",
   "metadata": {},
   "source": [
    "<h3 align=center>Guía de Ejercicios  N° 3<br>\n",
    "&nbsp;Tecnologías de la Información II 1/2019</h3>"
   ]
  },
  {
   "cell_type": "markdown",
   "metadata": {},
   "source": [
    "#### 1. Cree una función que recibe un texto, y retorna el mismo texto, pero omite los caracteres que no pertenecen al alfabeto y escribe una mayuscula y luego dos minusculas, repitiendo este patron."
   ]
  },
  {
   "cell_type": "markdown",
   "metadata": {},
   "source": [
    "Ingrese su nombre completo como ejemplo de uso, por ejemplo si recibe \"Juan1 Perez.\", debe retornar \"JuaNpeRez\"."
   ]
  },
  {
   "cell_type": "code",
   "execution_count": null,
   "metadata": {
    "collapsed": true
   },
   "outputs": [],
   "source": []
  },
  {
   "cell_type": "markdown",
   "metadata": {},
   "source": [
    "#### 2. Realice una funcion deletrear como parametro un numero entero positivo y retorne el texto con que se lee en español del mismo."
   ]
  },
  {
   "cell_type": "markdown",
   "metadata": {},
   "source": [
    "Considere numeros hasta el 999.999, ejemplo deletrear(202) = \"doscientos dos\""
   ]
  },
  {
   "cell_type": "code",
   "execution_count": null,
   "metadata": {
    "collapsed": true
   },
   "outputs": [],
   "source": []
  },
  {
   "cell_type": "markdown",
   "metadata": {},
   "source": [
    "#### 3. Se sabe que un número es divisible por 9, si la suma de todos sus digitos es divisible por 9. Implemente la función divnueve, que recibe un numero y responde si es o no divisible por 9, utilizando el algoritmo de la suma de digitos."
   ]
  },
  {
   "cell_type": "markdown",
   "metadata": {},
   "source": [
    "Use su rut como ejemplo de uso y algún otro numero, que retorne lo contrario al resultado con su rut."
   ]
  },
  {
   "cell_type": "markdown",
   "metadata": {},
   "source": [
    "No puede usar ningun texto!!"
   ]
  },
  {
   "cell_type": "code",
   "execution_count": null,
   "metadata": {
    "collapsed": true
   },
   "outputs": [],
   "source": []
  },
  {
   "cell_type": "markdown",
   "metadata": {},
   "source": [
    "#### 4. Implemente la función promedio la cual recibe una lista de valores y calcule ese indicador, luego utilizando esa función usted debe codificar la función covarianza, ella recibira dos listas con la misma cantidad de muestras y el resultado debe ser el de la fórmula abajo descrita, una vez que la termine, investigue que es la varianza y sólo utilizando la funcion covarianza, implemente la función varianza."
   ]
  },
  {
   "cell_type": "markdown",
   "metadata": {
    "collapsed": true
   },
   "source": [
    "$$ Cov(\\overrightarrow{x},\\overrightarrow{y}) = \\frac{\\sum_{i=1}^{n} (x_i-\\overline{x})(y_i-\\overline{y})}{n} $$"
   ]
  },
  {
   "cell_type": "code",
   "execution_count": null,
   "metadata": {
    "collapsed": true
   },
   "outputs": [],
   "source": []
  },
  {
   "cell_type": "markdown",
   "metadata": {},
   "source": [
    "#### 5. El área de la elipse es $\\pi a b$, donde la función que la describe es:\n",
    "\n",
    "$$\\frac{x^2}{a^2} + \\frac{y^2}{b^2} = 1$$\n",
    "\n",
    "Utilizando el metodo de Montecarlo, cree un funcion **cuartoelipse(a,b)** que retorne una estimación del area del primer cuarto de la elipse generando numeros aleatorios entre $[0,a]$ y $[0,b]$, recuerde que usted debe chequear si los numeros generados estan dentro o no del cuarto de la elipse, realice esto 1.000.000 veces y estime con el porcentaje de aciertos el area bajo la curva, fuera de la función y compare con el valor real."
   ]
  },
  {
   "cell_type": "markdown",
   "metadata": {},
   "source": [
    "Ayuda. random.random() retorna un numero entre [0,1]"
   ]
  },
  {
   "cell_type": "code",
   "execution_count": null,
   "metadata": {
    "collapsed": true
   },
   "outputs": [],
   "source": []
  },
  {
   "cell_type": "markdown",
   "metadata": {},
   "source": [
    "#### 6. En python existe la función count, que cuenta cuantas veces hay un texto dentro de otro, usted debe realizar la función **contar** que realice exactamente lo mismo, pero evidentemente sin usar la función existente.\n",
    "\n",
    "Ejemplo: contar(\"paralelepido\", \"le\") = 2 , pues \"le\" esta dos veces dentro del texto."
   ]
  },
  {
   "cell_type": "code",
   "execution_count": 1,
   "metadata": {},
   "outputs": [
    {
     "data": {
      "text/plain": [
       "2"
      ]
     },
     "execution_count": 1,
     "metadata": {},
     "output_type": "execute_result"
    }
   ],
   "source": [
    "\"paralelepipedo\".count(\"le\")"
   ]
  },
  {
   "cell_type": "code",
   "execution_count": null,
   "metadata": {
    "collapsed": true
   },
   "outputs": [],
   "source": []
  },
  {
   "cell_type": "markdown",
   "metadata": {},
   "source": [
    "#### 7. Realice la función **calcula_fecha(lista_fecha, dias)**, ella recibe una lista que representa una fecha y un numero que representa la cantidad de dias, ella retorna una lista similar a la ingresada pero que representa la fecha luego del paso de los dias. Asuma que cada año tiene 365 dias, a excepción de los años divisibles por 4, donde dura 366 dias."
   ]
  },
  {
   "cell_type": "raw",
   "metadata": {},
   "source": [
    "Por ejemplo: calcula_fecha([2019, 4, 30], 1)   --->   [2019, 5, 1]\n",
    "             calcula_fecha([2019, 4, 30], 366) --->   [2020, 4, 30]"
   ]
  },
  {
   "cell_type": "code",
   "execution_count": null,
   "metadata": {
    "collapsed": true
   },
   "outputs": [],
   "source": []
  },
  {
   "cell_type": "markdown",
   "metadata": {},
   "source": [
    "#### 8. Implemente la función 'subnumeros', que recibe como parametro un numero y retorna una lista de numeros no repetidos, con todos los posibles subnumeros del original (no importa el orden de la lista, solo que esten todos los subnumeros). "
   ]
  },
  {
   "cell_type": "markdown",
   "metadata": {},
   "source": [
    "Por ejemplo: subnumeros(1223) ---> [1,2,3,12,22,23,122,223]\n",
    "\n",
    "Solo se puede usar numeros!"
   ]
  },
  {
   "cell_type": "code",
   "execution_count": null,
   "metadata": {
    "collapsed": true
   },
   "outputs": [],
   "source": []
  },
  {
   "cell_type": "markdown",
   "metadata": {},
   "source": [
    "#### 9. Suponga que recibe una lista de 5 numeros entre 0 y 51 no repetidos, que representan cartas de un naipe ingles. Implemente la funcion **mano(lista)** que devuelve un texto con la mejor mano entregada en el poker."
   ]
  },
  {
   "cell_type": "raw",
   "metadata": {},
   "source": [
    "En el caso que usted considere el naipe ingles como \"AAAA22223....QKKKK\", donde de la posicion 0 a la 3 son ases.\n",
    "\n",
    "mano([0,3,5,1,2]) = \"poker\"\n",
    "mano([0,8,4,20,24]) = \"color\" (todas las cartas de la misma pinta)\n",
    "\n",
    "Las posibles respuestas para este ejercicio son:\n",
    "carta alta\n",
    "par\n",
    "doble par\n",
    "trio\n",
    "escalera\n",
    "color\n",
    "full\n",
    "poker\n",
    "escalera color"
   ]
  },
  {
   "cell_type": "code",
   "execution_count": null,
   "metadata": {},
   "outputs": [],
   "source": []
  },
  {
   "cell_type": "markdown",
   "metadata": {},
   "source": [
    "#### 10. Suponga que juega domino y necesita implementar la funcion **jugables**, ella recibe una lista fichas y una ficha, donde las fichas tambien son representadas por una lista de dos numeros, esta funcion retorna las fichas que usted podria jugar en la mesa, donde los bordes corresponde a los mencionados en la ficha entregada sola."
   ]
  },
  {
   "cell_type": "raw",
   "metadata": {},
   "source": [
    "Por ejemplo: \n",
    "\n",
    "jugables([ [0,0], [6,6], [2,3] ], [1,4]) = []\n",
    "ninguna de mis tres fichas, puede jugarse delante del 1 o detras del 4.\n",
    "\n",
    "jugables([ [0,0], [6,6], [2,3], [1,6] ], [1,6]) = [ [6,6], [1,6] ]\n",
    "\n",
    "jugables([ [0,0], [6,6] ], [1,6]) = [ [6,6] ]"
   ]
  },
  {
   "cell_type": "code",
   "execution_count": null,
   "metadata": {},
   "outputs": [],
   "source": []
  }
 ],
 "metadata": {
  "kernelspec": {
   "display_name": "Python 3",
   "language": "python",
   "name": "python3"
  },
  "language_info": {
   "codemirror_mode": {
    "name": "ipython",
    "version": 3
   },
   "file_extension": ".py",
   "mimetype": "text/x-python",
   "name": "python",
   "nbconvert_exporter": "python",
   "pygments_lexer": "ipython3",
   "version": "3.6.4"
  }
 },
 "nbformat": 4,
 "nbformat_minor": 2
}
