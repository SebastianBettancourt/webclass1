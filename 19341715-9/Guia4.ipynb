{
 "cells": [
  {
   "cell_type": "markdown",
   "metadata": {},
   "source": [
    "<h4>Universidad del Desarrollo<br>\n",
    "Facultad de Ingeniería</h4>"
   ]
  },
  {
   "cell_type": "markdown",
   "metadata": {},
   "source": [
    "<h3 align=center>Guía de Ejercicios  N° 4<br>\n",
    "&nbsp;Taller de Programación (TI2) 1/2019</h3>"
   ]
  },
  {
   "cell_type": "markdown",
   "metadata": {
    "collapsed": true
   },
   "source": [
    "#### 1. Implemente la función recursiva mayusc_y_minusc que recibe un texto y retorne otro similar, la función debe retornar el texto intercaladamente mayusculas y minusculas comenzando por mayuscula.\n",
    "En caso de contener simbolos o numeros el texto, se debe lanzar un ValueError.\n",
    "\n",
    "i.e. mayusc_minusc(\"Ejercicio\") --> \"EjErCiCiO\""
   ]
  },
  {
   "cell_type": "code",
   "execution_count": null,
   "metadata": {
    "collapsed": true
   },
   "outputs": [],
   "source": []
  },
  {
   "cell_type": "markdown",
   "metadata": {},
   "source": [
    "#### 2. Realice la función recursiva compone_lista que recibe dos números enteros num y n, y retorna un conjuntos con números de n digitos contenidos dentro de num.\n",
    "Pida su rut, transformelo a numero y utilicelo como ejemplo, el numero de iteraciones no puede ser fijo, pues podria tener más de 4 iteraciones.\n",
    "\n",
    "compone_lista(32325672, 1) --> { 2, 3, 5, 6, 7 }\n",
    "\n",
    "compone_lista(32325672, 2) --> { 23, 25, 32, 56, 67, 72 }"
   ]
  },
  {
   "cell_type": "code",
   "execution_count": null,
   "metadata": {
    "collapsed": true
   },
   "outputs": [],
   "source": []
  },
  {
   "cell_type": "markdown",
   "metadata": {},
   "source": [
    "#### 3. Cree una función recursiva extrae_maximo, ella recibe una lista de numeros enteros y retorna el numero maximo de la lista.\n",
    "i.e. extrae_maximo([12, 34, 23, 5, 9, 11]) --> 34"
   ]
  },
  {
   "cell_type": "code",
   "execution_count": null,
   "metadata": {
    "collapsed": true
   },
   "outputs": [],
   "source": []
  },
  {
   "cell_type": "markdown",
   "metadata": {},
   "source": [
    "#### 4. El Algoritmo de Euclides para el cálculo del máximo comun divisor, se puede describir en la siguiente función:"
   ]
  },
  {
   "cell_type": "code",
   "execution_count": 7,
   "metadata": {
    "collapsed": false
   },
   "outputs": [
    {
     "data": {
      "text/plain": [
       "5"
      ]
     },
     "execution_count": 7,
     "metadata": {},
     "output_type": "execute_result"
    }
   ],
   "source": [
    "def euclides_mcd_iterativo(a, b):\n",
    "    if b > a:\n",
    "        tmp = a\n",
    "        a = b\n",
    "        b = tmp\n",
    "    while b != 0:\n",
    "        tmp = a % b\n",
    "        a = b\n",
    "        b = tmp\n",
    "    return a\n",
    "euclides_mcd(55, 65)"
   ]
  },
  {
   "cell_type": "markdown",
   "metadata": {},
   "source": [
    "Escriba la función euclides_mcd_recursivo(a,b), que realice lo mismo pero de manera recursiva."
   ]
  },
  {
   "cell_type": "code",
   "execution_count": null,
   "metadata": {
    "collapsed": true
   },
   "outputs": [],
   "source": []
  },
  {
   "cell_type": "markdown",
   "metadata": {},
   "source": [
    "#### 5. Realice una función recursiva jugar_cachipun que recibe como parametro un entero \"n\" que denota cuantas veces se juega al cachipun entre dos jugadores, esta función retorna un diccionario con llaves \"ganados\", \"empatados\" y \"perdidos\" y como valor la cantidad de juegos ganados, empatados y perdidos tuvo el primer jugador versus el segundo. En el caso de no ser entero n o ser negativo, debe lanzar una excepción de ValueError, su ejecución de ejemplo debe ser protegida por un try.\n",
    "i.e. jugar_cachipun(10) --> {\"ganados\": 2, \"empatados\": 5, \"perdidos\": 3}"
   ]
  },
  {
   "cell_type": "code",
   "execution_count": null,
   "metadata": {
    "collapsed": true
   },
   "outputs": [],
   "source": []
  },
  {
   "cell_type": "markdown",
   "metadata": {
    "collapsed": true
   },
   "source": [
    "#### 6. En clases se desarrollo una simulación del juego del Loto hasta ganar, modifique el programa de modo que use conjuntos en la implementación, si se fija no necesitará chequear si ya salió el número, sólo revisar el tamaño del conjunto. Además puede usar la intersección de conjuntos para calcular los aciertos (prueba la función intersection y el operador &)"
   ]
  },
  {
   "cell_type": "code",
   "execution_count": null,
   "metadata": {
    "collapsed": true
   },
   "outputs": [],
   "source": []
  },
  {
   "cell_type": "markdown",
   "metadata": {},
   "source": [
    "#### 7. Cree la función recursiva crea_diccionario, que recibe como parametro un texto libre y retorna un diccionario con cuantas letras mayusculas y minusculas, números y simbolos tiene un texto.\n",
    "i.e. crea_diccionario(\"Me gusta TI-2\") = {\"mayusculas\": 3, \"minusculas\": 6, \"numeros\": 1, \"simbolos\": 3}"
   ]
  },
  {
   "cell_type": "code",
   "execution_count": null,
   "metadata": {
    "collapsed": true
   },
   "outputs": [],
   "source": []
  },
  {
   "cell_type": "markdown",
   "metadata": {},
   "source": [
    "#### 8. Scrabble\n",
    "Usted cuenta con un diccionario \"letras\" para jugar Scrabble, en el cual cada letra posee una tupla, donde el primer elemento es el puntaje de la letra y el segundo representa cuantas fichas existen de esa letra."
   ]
  },
  {
   "cell_type": "code",
   "execution_count": 1,
   "metadata": {
    "collapsed": true
   },
   "outputs": [],
   "source": [
    "letras = {\"A\" : (1,12) , \"B\" : (3,2) , \"C\" : (3,4), \"D\" : (2,5), \"E\" : (1,12), \"F\" : (4,1),\n",
    "          \"G\" : (2,2) , \"H\" : (4,2) , \"I\" : (1,6), \"J\" : (8,1), \"L\" : (1,4), \"M\" : (3,2),\n",
    "          \"N\" : (1,5) , \"O\" : (1,9) , \"P\" : (3,2), \"Q\" : (5,1), \"R\" : (1,5), \"S\" : (1,6),\n",
    "          \"T\" : (1,4) , \"U\" : (1,5) , \"V\" : (4,1), \"X\" : (8,1), \"Y\" : (4,1), \"Z\" : (10,1)}"
   ]
  },
  {
   "cell_type": "markdown",
   "metadata": {},
   "source": [
    "Implemente una función \"calcula_puntaje\", que recibe como parametro un texto y calcula el puntaje de su texto como la suma de los puntos de acuerdo al diccionario, en el caso de no haber fichas suficientes debe retornar 0 puntos, pues no es posible crear dicha palabra en el juego. Su rutina debe ser indiferente a mayusculas y minusculas y en caso que su palabra tenga números o simbolos sencillamente omitalos."
   ]
  },
  {
   "cell_type": "code",
   "execution_count": null,
   "metadata": {
    "collapsed": true
   },
   "outputs": [],
   "source": []
  },
  {
   "cell_type": "markdown",
   "metadata": {
    "collapsed": true
   },
   "source": [
    "#### 9. Números primos\n",
    "\n",
    "Cree una función recursiva que retorne una lista con los numeros primos menores a n.\n",
    "\n",
    "ie. primos_recursivo(30) = [2, 3, 5, 7, 11, 13, 17, 19, 23, 29]"
   ]
  },
  {
   "cell_type": "code",
   "execution_count": null,
   "metadata": {
    "collapsed": true
   },
   "outputs": [],
   "source": []
  },
  {
   "cell_type": "markdown",
   "metadata": {},
   "source": [
    "#### 10. Deletrear número.\n",
    "\n",
    "Realice una función deletrear recursiva, que retorne el texto del numero ingresado como parametro, este debe ser positivo y menor a un millón, en caso contrario manejelo con un ValueError.\n",
    "\n",
    "i.e. deletrear_recursivo(500100) = \"quinientos mil cien\"\n",
    "\n",
    "Ayuda, piense en esto... deletrear_recursivo(500100) = deletrear_recursivo(500100 // 1000) + \" mil \" + deletrear_recursivo(500100 % 1000)"
   ]
  },
  {
   "cell_type": "code",
   "execution_count": null,
   "metadata": {
    "collapsed": true
   },
   "outputs": [],
   "source": []
  }
 ],
 "metadata": {
  "kernelspec": {
   "display_name": "Python 3",
   "language": "python",
   "name": "python3"
  },
  "language_info": {
   "codemirror_mode": {
    "name": "ipython",
    "version": 3
   },
   "file_extension": ".py",
   "mimetype": "text/x-python",
   "name": "python",
   "nbconvert_exporter": "python",
   "pygments_lexer": "ipython3",
   "version": "3.6.7"
  }
 },
 "nbformat": 4,
 "nbformat_minor": 2
}
