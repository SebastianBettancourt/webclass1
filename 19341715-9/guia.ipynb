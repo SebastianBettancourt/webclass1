{
 "cells": [
  {
   "cell_type": "markdown",
   "metadata": {},
   "source": [
    "<h4>Universidad del Desarrollo<br>\n",
    "Facultad de Ingeniería</h4>"
   ]
  },
  {
   "cell_type": "markdown",
   "metadata": {},
   "source": [
    "<h3 align=center>Guía de Ejercicios  N° 1<br>\n",
    "&nbsp;Tecnologías de la Información II 1/2019</h3>"
   ]
  },
  {
   "cell_type": "markdown",
   "metadata": {},
   "source": [
    "#### Unidad 1. Variables, operaciones matemáticas, if."
   ]
  },
  {
   "cell_type": "markdown",
   "metadata": {},
   "source": [
    "#### 1. Solicite un monto y calcule como entregar esa cantidad con la menor cantidad de billetes y monedas chilenas posible. "
   ]
  },
  {
   "cell_type": "raw",
   "metadata": {},
   "source": [
    "Ingrese su rut sin digito verificador como su monto, aplique la regla del redondeo, es decir no hay monedas de 5 y 1 peso."
   ]
  },
  {
   "cell_type": "code",
   "execution_count": null,
   "metadata": {
    "collapsed": true
   },
   "outputs": [],
   "source": []
  },
  {
   "cell_type": "markdown",
   "metadata": {},
   "source": [
    "#### 2. Ingrese su fecha de nacimiento e imprima su edad al dia de hoy."
   ]
  },
  {
   "cell_type": "raw",
   "metadata": {},
   "source": [
    "Puede ingresar su dia, mes y año de nacimiento en variables distintas y usar el ejemplo de abajo para comparar con la fecha de hoy."
   ]
  },
  {
   "cell_type": "code",
   "execution_count": 15,
   "metadata": {
    "collapsed": false
   },
   "outputs": [
    {
     "name": "stdout",
     "output_type": "stream",
     "text": [
      "2019 3 18\n"
     ]
    }
   ],
   "source": [
    "import datetime\n",
    "hoy = datetime.datetime.now()\n",
    "print(hoy.year, hoy.month, hoy.day)"
   ]
  },
  {
   "cell_type": "code",
   "execution_count": null,
   "metadata": {
    "collapsed": false
   },
   "outputs": [],
   "source": []
  },
  {
   "cell_type": "markdown",
   "metadata": {},
   "source": [
    "#### 3. Un lote de cebollas contiene 4 unidades, y un saco de ellas posee 12 lotes, y un camión puede llevar 150 sacos, si usted cosecha el numero de su rut de cebollas, cuantos camiones llena y cuantos sacos, lotes y cebollas sueltas le sobra. "
   ]
  },
  {
   "cell_type": "code",
   "execution_count": null,
   "metadata": {
    "collapsed": true
   },
   "outputs": [],
   "source": []
  },
  {
   "cell_type": "markdown",
   "metadata": {},
   "source": [
    "#### 4. Existe 4 grupos de sangre, I = AB, II = AA o A0, III = BB o B0, y IV = 00."
   ]
  },
  {
   "cell_type": "raw",
   "metadata": {},
   "source": [
    "Solicite la combinacion genetica del padre y la madre, chequee que sea valida y encuentre los posibles grupo de sangre tendran los hijos. Por ejemplo si el padre es AB y la madre es AA, debe imprimir por ejemplo:\n",
    "\n",
    "Es posible tener hijo de GRUPO I.\n",
    "Es posible tener hijo de GRUPO II."
   ]
  },
  {
   "cell_type": "code",
   "execution_count": 32,
   "metadata": {
    "collapsed": false
   },
   "outputs": [
    {
     "name": "stdout",
     "output_type": "stream",
     "text": [
      "p = AB\n",
      "h = BA\n"
     ]
    }
   ],
   "source": [
    "# ayuda\n",
    "p = 'AB'\n",
    "print(\"p =\", p)\n",
    "h = p[1] + p[0]  # primero la segunda letra, despues la primera (empieza en 0)\n",
    "print(\"h =\", h)"
   ]
  },
  {
   "cell_type": "code",
   "execution_count": null,
   "metadata": {
    "collapsed": true
   },
   "outputs": [],
   "source": []
  },
  {
   "cell_type": "markdown",
   "metadata": {
    "collapsed": true
   },
   "source": [
    "#### 5. Solicite 3 números mayores de 100 con decimales, obtenga el promedio (con decimal) y divida los tres primeros decimales por la parte entera de este promedio, luego sume los 3 primeros digitos decimales (todas las operaciones deben ser con numeros). "
   ]
  },
  {
   "cell_type": "raw",
   "metadata": {},
   "source": [
    "Ej.: si el promedio de 3 numeros es 123.456789 debe calcular 456/123 = 3.7071, luego 7+0+7 =14, (ingrese numeros correctos, pero chequeelos)"
   ]
  },
  {
   "cell_type": "code",
   "execution_count": null,
   "metadata": {
    "collapsed": true
   },
   "outputs": [],
   "source": []
  },
  {
   "cell_type": "markdown",
   "metadata": {},
   "source": [
    "#### 6. Escribir un programa que transforme de Celsius a Fahrenheit o de Fahrenheit a Celsius. Donde:\n",
    "\n",
    "$$\\frac{C}{5} = \\frac{F - 32}{9}$$\n"
   ]
  },
  {
   "cell_type": "raw",
   "metadata": {},
   "source": [
    "C = temperatura en grados celsius y F = temperatura en fahrenheit\n",
    "Por ejemplo:\n",
    "Si ingresa 60C --> resultado debe ser 140F\n",
    "Si ingresa 45F --> resultado debe ser 7C"
   ]
  },
  {
   "cell_type": "code",
   "execution_count": 1,
   "metadata": {
    "collapsed": false
   },
   "outputs": [
    {
     "name": "stdout",
     "output_type": "stream",
     "text": [
      "Ingrese la temperatura que desee convertir (ej.: 45F, 102C) : 60C\n"
     ]
    }
   ],
   "source": [
    "temp = input(\"Ingrese la temperatura que desee convertir (ej.: 45F, 102C) : \")"
   ]
  },
  {
   "cell_type": "code",
   "execution_count": 21,
   "metadata": {
    "collapsed": false
   },
   "outputs": [
    {
     "name": "stdout",
     "output_type": "stream",
     "text": [
      "hola hol a\n"
     ]
    }
   ],
   "source": [
    "# Ayuda, para sacar la ultima letra del texto puede usar lo siguiente:\n",
    "texto = \"hola\"\n",
    "ultima = texto[len(texto)-1]\n",
    "resto = texto[:-1]\n",
    "print(texto, resto, ultima)"
   ]
  },
  {
   "cell_type": "code",
   "execution_count": null,
   "metadata": {
    "collapsed": true
   },
   "outputs": [],
   "source": []
  },
  {
   "cell_type": "markdown",
   "metadata": {},
   "source": [
    "#### 7. Solicite la medida de los tres lados de un triangulo y clasifiquelo de acuerdo a sus angulos."
   ]
  },
  {
   "cell_type": "raw",
   "metadata": {},
   "source": [
    "Las alternativas son: acutangulo, rectangulo y obtusangulo.\n",
    "Ayuda: Investigue y use el teorema del coseno, utilice la función matematica acos."
   ]
  },
  {
   "cell_type": "code",
   "execution_count": 33,
   "metadata": {
    "collapsed": false
   },
   "outputs": [
    {
     "name": "stdout",
     "output_type": "stream",
     "text": [
      "1.0471975511965979 1.0471975511965976\n"
     ]
    }
   ],
   "source": [
    "# ayuda, las funciones trigonometricas siempre entregan radianes, cos(60°) = 0.5 y 60° = pi/3 y acos es la inversa de cos.\n",
    "import math\n",
    "print(math.acos(0.5), math.pi/3)"
   ]
  },
  {
   "cell_type": "code",
   "execution_count": null,
   "metadata": {
    "collapsed": true
   },
   "outputs": [],
   "source": []
  },
  {
   "cell_type": "markdown",
   "metadata": {
    "collapsed": true
   },
   "source": [
    "#### 8. Realice un programa que solicita 3 coordenadas (x,y) de un plano (pida tres x y tres y) y calcule el perimetro del triangulo que genera esos tres puntos."
   ]
  },
  {
   "cell_type": "raw",
   "metadata": {},
   "source": [
    "Ingrese algún ejemplo que conforme realmente un triangulo, puede usar la función matematica sqrt."
   ]
  },
  {
   "cell_type": "code",
   "execution_count": 31,
   "metadata": {
    "collapsed": false
   },
   "outputs": [
    {
     "name": "stdout",
     "output_type": "stream",
     "text": [
      "1.4142135623730951\n"
     ]
    }
   ],
   "source": [
    "# ayuda, ejemplo raiz de 2\n",
    "import math\n",
    "print(math.sqrt(2))"
   ]
  },
  {
   "cell_type": "code",
   "execution_count": null,
   "metadata": {
    "collapsed": true
   },
   "outputs": [],
   "source": []
  },
  {
   "cell_type": "markdown",
   "metadata": {},
   "source": [
    "#### 9. Realice un programa que solicita 3 coordenadas (x,y) de un plano (pida tres x y tres y) e identifique si un punto esta contenido dentro del trazo que genera los otros dos puntos."
   ]
  },
  {
   "cell_type": "raw",
   "metadata": {},
   "source": [
    "Copie 2 veces el codigo, y al ejecutarlo en un caso el punto no esta contenido y en el otro sí."
   ]
  },
  {
   "cell_type": "code",
   "execution_count": null,
   "metadata": {
    "collapsed": true
   },
   "outputs": [],
   "source": []
  },
  {
   "cell_type": "markdown",
   "metadata": {},
   "source": [
    "#### 10. Realice un programa que pide una figura geométrica (opciones: cono, piramide y cilindro), luego su base y altura e imprima el volumen de ella. La base para el cono y cilindro corresponde al radio de la circunferencia de la base y la piramide corresponde al lado del cuadrado de base."
   ]
  },
  {
   "cell_type": "code",
   "execution_count": null,
   "metadata": {
    "collapsed": true
   },
   "outputs": [],
   "source": []
  }
 ],
 "metadata": {
  "kernelspec": {
   "display_name": "Python 3",
   "language": "python",
   "name": "python3"
  },
  "language_info": {
   "codemirror_mode": {
    "name": "ipython",
    "version": 3
   },
   "file_extension": ".py",
   "mimetype": "text/x-python",
   "name": "python",
   "nbconvert_exporter": "python",
   "pygments_lexer": "ipython3",
   "version": "3.6.7"
  }
 },
 "nbformat": 4,
 "nbformat_minor": 2
}
